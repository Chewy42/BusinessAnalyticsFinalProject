{
 "cells": [
  {
   "cell_type": "code",
   "execution_count": 1,
   "metadata": {},
   "outputs": [],
   "source": [
    "import pandas as pd\n",
    "import numpy as np\n",
    "import json"
   ]
  },
  {
   "cell_type": "code",
   "execution_count": 7,
   "metadata": {},
   "outputs": [
    {
     "name": "stderr",
     "output_type": "stream",
     "text": [
      "C:\\Users\\mfave\\AppData\\Local\\Temp\\ipykernel_246112\\1349822088.py:1: DtypeWarning: Columns (396,397,398,399,401,403,405,406,407,408,410,412,414,415,416,417,419,421,423,424,425,426,428,430,432,433,434,435,437,439,441,442,443,444,446,448,450,451,452,453,455,457,459,460,461,462,464,466) have mixed types. Specify dtype option on import or set low_memory=False.\n",
      "  df = pd.read_csv('datasets/REGEN/clothing_cleaned.csv')\n"
     ]
    }
   ],
   "source": [
    "df = pd.read_csv('datasets/REGEN/clothing_cleaned.csv')"
   ]
  },
  {
   "cell_type": "markdown",
   "metadata": {},
   "source": [
    "STRING = paragraphs or long strings of text\n",
    "CATEGORICAL = must be converted to categorical\n",
    "FLOAT32 = must be converted to a performant floating point type\n",
    "INT32 = must be converted to a performant integer type\n",
    "AI_GENERATED_STRING = AI Generated summaries that need to be handled specially or looked at closer\n",
    "\n",
    "To handle flattened columns:\n",
    "1. Extract slices containing 'asin' fields\n",
    "2. Start from 'properties.purchase_history.X.item.asin'\n",
    "3. End at corresponding 'properties.purchase_history.X.review.timestamp' fields\n",
    "4. X represents the purchase history index (1-based)\n",
    "\n",
    "Iterate through these fields for each purchase:\n",
    "- properties.purchase_history.X.item.title: STRING\n",
    "- properties.purchase_history.X.item.category: CATEGORICAL\n",
    "- properties.purchase_history.X.item.description: STRING\n",
    "- properties.purchase_history.X.item.price: FLOAT32\n",
    "- properties.purchase_history.X.review.summary: AI_GENERATED_STRING\n",
    "- properties.purchase_history.X.review.rating: CATEGORICAL\n",
    "- properties.purchase_history.X.review.text: STRING\n",
    "- properties.purchase_history.X.review.timestamp: INT32\n",
    "\n",
    "Replace X with (index + 1) for each iteration.\n",
    "\n",
    "Important: Check if the 'asin' field is empty before processing each purchase.\n",
    "If empty, skip the remaining fields for that purchase history (row) and move to the next index (next purchase/row).\n",
    "This indicates the end of the purchase history for the current item.\n",
    "\n",
    "I want to make a function that loads in the clothing_cleaned.csv dataset and returns a cleaned and performant dataset"
   ]
  },
  {
   "cell_type": "code",
   "execution_count": null,
   "metadata": {},
   "outputs": [],
   "source": [
    "def prepare_dataframe(df):\n",
    "    df['properties.purchase_history'] = df['properties.purchase_history'].apply(lambda x: json.loads(x))\n",
    "    df['properties.purchase_history'] = df['properties.purchase_history'].apply(lambda x: pd.json_normalize(x))\n",
    "    df['properties.purchase_history'] = df['properties.purchase_history'].apply(lambda x: x.fillna(''))\n",
    "    df['properties.purchase_history'] = df['properties.purchase_history'].apply(lambda x: x.astype(str))\n",
    "    return df\n",
    "\n",
    "df = prepare_dataframe(df)\n",
    "df.head()"
   ]
  }
 ],
 "metadata": {
  "kernelspec": {
   "display_name": "venv",
   "language": "python",
   "name": "python3"
  },
  "language_info": {
   "codemirror_mode": {
    "name": "ipython",
    "version": 3
   },
   "file_extension": ".py",
   "mimetype": "text/x-python",
   "name": "python",
   "nbconvert_exporter": "python",
   "pygments_lexer": "ipython3",
   "version": "3.11.9"
  }
 },
 "nbformat": 4,
 "nbformat_minor": 2
}
