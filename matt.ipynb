{
 "cells": [
  {
   "cell_type": "code",
   "execution_count": 1,
   "metadata": {},
   "outputs": [],
   "source": [
    "import pandas as pd\n",
    "import numpy as np"
   ]
  },
  {
   "cell_type": "code",
   "execution_count": 2,
   "metadata": {},
   "outputs": [
    {
     "data": {
      "text/html": [
       "<div>\n",
       "<style scoped>\n",
       "    .dataframe tbody tr th:only-of-type {\n",
       "        vertical-align: middle;\n",
       "    }\n",
       "\n",
       "    .dataframe tbody tr th {\n",
       "        vertical-align: top;\n",
       "    }\n",
       "\n",
       "    .dataframe thead th {\n",
       "        text-align: right;\n",
       "    }\n",
       "</style>\n",
       "<table border=\"1\" class=\"dataframe\">\n",
       "  <thead>\n",
       "    <tr style=\"text-align: right;\">\n",
       "      <th></th>\n",
       "      <th>title</th>\n",
       "      <th>category</th>\n",
       "      <th>description</th>\n",
       "      <th>price</th>\n",
       "      <th>review_summary</th>\n",
       "      <th>review_rating</th>\n",
       "      <th>review_text</th>\n",
       "      <th>review_timestamp</th>\n",
       "      <th>user_id</th>\n",
       "    </tr>\n",
       "  </thead>\n",
       "  <tbody>\n",
       "    <tr>\n",
       "      <th>0</th>\n",
       "      <td>LifeStride Womens Fran Wedge Pump</td>\n",
       "      <td>Clothing Shoes Jewelry Women Shoes Pumps</td>\n",
       "      <td>The fantastic Fran will make you light up the ...</td>\n",
       "      <td>19.52</td>\n",
       "      <td>This is a really comfortable shoe Its a sleek ...</td>\n",
       "      <td>4.0</td>\n",
       "      <td>This is a really comfortable shoe Its a sleek ...</td>\n",
       "      <td>1455494400</td>\n",
       "      <td>0</td>\n",
       "    </tr>\n",
       "    <tr>\n",
       "      <th>1</th>\n",
       "      <td>Tartanista 165 Scottish Kilt Skirts Huge Choic...</td>\n",
       "      <td>Clothing Shoes Jewelry Women Clothing Skirts</td>\n",
       "      <td>Tartanista 165 Tartan Mini Kilt Skirt Free Pin...</td>\n",
       "      <td>24.95</td>\n",
       "      <td>GREAT ITEM</td>\n",
       "      <td>5.0</td>\n",
       "      <td>LOVE this item It worked GREAT for kilt night ...</td>\n",
       "      <td>1460764800</td>\n",
       "      <td>1</td>\n",
       "    </tr>\n",
       "    <tr>\n",
       "      <th>2</th>\n",
       "      <td>Dreamgirl Womens Silicone Lace Top ThighHigh S...</td>\n",
       "      <td>Clothing Shoes Jewelry Women Clothing Socks Ho...</td>\n",
       "      <td>The Dreamgirl Sheer Thigh High With Stay Up Si...</td>\n",
       "      <td>22.66</td>\n",
       "      <td>I like them a lot</td>\n",
       "      <td>5.0</td>\n",
       "      <td>I like them a lot Super sexy Really long I was...</td>\n",
       "      <td>1425513600</td>\n",
       "      <td>2</td>\n",
       "    </tr>\n",
       "    <tr>\n",
       "      <th>3</th>\n",
       "      <td>Dicksons The Reunion Heart Memorial Wedding Ri...</td>\n",
       "      <td>Clothing Shoes Jewelry Women Jewelry Necklaces</td>\n",
       "      <td>Heart Memorial Ring Holder PendantUntil We Mee...</td>\n",
       "      <td>6.58</td>\n",
       "      <td>This is very pretty It holds my rings without ...</td>\n",
       "      <td>5.0</td>\n",
       "      <td>This is very pretty It holds my rings without ...</td>\n",
       "      <td>1475452800</td>\n",
       "      <td>3</td>\n",
       "    </tr>\n",
       "    <tr>\n",
       "      <th>4</th>\n",
       "      <td>Womens Stainless Steel Cubic Zirconia Matte Fi...</td>\n",
       "      <td>Clothing Shoes Jewelry Women Jewelry Rings</td>\n",
       "      <td>Cubic Zirconia stones reveal the same brillian...</td>\n",
       "      <td>0.00</td>\n",
       "      <td>Beautiful ring Great price</td>\n",
       "      <td>5.0</td>\n",
       "      <td>I really love this ring It is so unique and ve...</td>\n",
       "      <td>1382400000</td>\n",
       "      <td>4</td>\n",
       "    </tr>\n",
       "  </tbody>\n",
       "</table>\n",
       "</div>"
      ],
      "text/plain": [
       "                                               title  \\\n",
       "0                  LifeStride Womens Fran Wedge Pump   \n",
       "1  Tartanista 165 Scottish Kilt Skirts Huge Choic...   \n",
       "2  Dreamgirl Womens Silicone Lace Top ThighHigh S...   \n",
       "3  Dicksons The Reunion Heart Memorial Wedding Ri...   \n",
       "4  Womens Stainless Steel Cubic Zirconia Matte Fi...   \n",
       "\n",
       "                                            category  \\\n",
       "0           Clothing Shoes Jewelry Women Shoes Pumps   \n",
       "1       Clothing Shoes Jewelry Women Clothing Skirts   \n",
       "2  Clothing Shoes Jewelry Women Clothing Socks Ho...   \n",
       "3     Clothing Shoes Jewelry Women Jewelry Necklaces   \n",
       "4         Clothing Shoes Jewelry Women Jewelry Rings   \n",
       "\n",
       "                                         description  price  \\\n",
       "0  The fantastic Fran will make you light up the ...  19.52   \n",
       "1  Tartanista 165 Tartan Mini Kilt Skirt Free Pin...  24.95   \n",
       "2  The Dreamgirl Sheer Thigh High With Stay Up Si...  22.66   \n",
       "3  Heart Memorial Ring Holder PendantUntil We Mee...   6.58   \n",
       "4  Cubic Zirconia stones reveal the same brillian...   0.00   \n",
       "\n",
       "                                      review_summary  review_rating  \\\n",
       "0  This is a really comfortable shoe Its a sleek ...            4.0   \n",
       "1                                         GREAT ITEM            5.0   \n",
       "2                                  I like them a lot            5.0   \n",
       "3  This is very pretty It holds my rings without ...            5.0   \n",
       "4                         Beautiful ring Great price            5.0   \n",
       "\n",
       "                                         review_text  review_timestamp  \\\n",
       "0  This is a really comfortable shoe Its a sleek ...        1455494400   \n",
       "1  LOVE this item It worked GREAT for kilt night ...        1460764800   \n",
       "2  I like them a lot Super sexy Really long I was...        1425513600   \n",
       "3  This is very pretty It holds my rings without ...        1475452800   \n",
       "4  I really love this ring It is so unique and ve...        1382400000   \n",
       "\n",
       "   user_id  \n",
       "0        0  \n",
       "1        1  \n",
       "2        2  \n",
       "3        3  \n",
       "4        4  "
      ]
     },
     "execution_count": 2,
     "metadata": {},
     "output_type": "execute_result"
    }
   ],
   "source": [
    "df = pd.read_csv('cleaned_purchase_history.csv')\n",
    "df.head()"
   ]
  },
  {
   "cell_type": "code",
   "execution_count": 3,
   "metadata": {},
   "outputs": [
    {
     "data": {
      "text/plain": [
       "Index(['title', 'category', 'description', 'price', 'review_summary',\n",
       "       'review_rating', 'review_text', 'review_timestamp', 'user_id'],\n",
       "      dtype='object')"
      ]
     },
     "execution_count": 3,
     "metadata": {},
     "output_type": "execute_result"
    }
   ],
   "source": [
    "df.columns"
   ]
  }
 ],
 "metadata": {
  "kernelspec": {
   "display_name": "Python 3",
   "language": "python",
   "name": "python3"
  },
  "language_info": {
   "codemirror_mode": {
    "name": "ipython",
    "version": 3
   },
   "file_extension": ".py",
   "mimetype": "text/x-python",
   "name": "python",
   "nbconvert_exporter": "python",
   "pygments_lexer": "ipython3",
   "version": "3.11.9"
  }
 },
 "nbformat": 4,
 "nbformat_minor": 2
}
